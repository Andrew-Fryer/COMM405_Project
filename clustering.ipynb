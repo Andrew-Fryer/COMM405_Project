{
 "cells": [
  {
   "cell_type": "code",
   "execution_count": 10,
   "metadata": {},
   "outputs": [],
   "source": [
    "import numpy as np\n",
    "import pandas as pd\n",
    "import matplotlib.pyplot as plt\n",
    "from sklearn.cluster import KMeans"
   ]
  },
  {
   "cell_type": "code",
   "execution_count": 4,
   "metadata": {},
   "outputs": [],
   "source": [
    "df = pd.read_csv(\"final_dataset.csv\")"
   ]
  },
  {
   "cell_type": "code",
   "execution_count": 5,
   "metadata": {},
   "outputs": [
    {
     "data": {
      "text/html": [
       "<div>\n",
       "<style scoped>\n",
       "    .dataframe tbody tr th:only-of-type {\n",
       "        vertical-align: middle;\n",
       "    }\n",
       "\n",
       "    .dataframe tbody tr th {\n",
       "        vertical-align: top;\n",
       "    }\n",
       "\n",
       "    .dataframe thead th {\n",
       "        text-align: right;\n",
       "    }\n",
       "</style>\n",
       "<table border=\"1\" class=\"dataframe\">\n",
       "  <thead>\n",
       "    <tr style=\"text-align: right;\">\n",
       "      <th></th>\n",
       "      <th>Assets</th>\n",
       "      <th>AssetsCurrent</th>\n",
       "      <th>CashAndCashEquivalentsAtCarryingValue</th>\n",
       "      <th>CashCashEquivalentsRestrictedCashAndRestrictedCashEquivalentsPeriodIncreaseDecreaseIncludingExchangeRateEffect</th>\n",
       "      <th>CommonStockParOrStatedValuePerShare</th>\n",
       "      <th>CommonStockValue</th>\n",
       "      <th>IncomeTaxExpenseBenefit</th>\n",
       "      <th>Liabilities</th>\n",
       "      <th>LiabilitiesAndStockholdersEquity</th>\n",
       "      <th>LiabilitiesCurrent</th>\n",
       "      <th>...</th>\n",
       "      <th>NetCashProvidedByUsedInOperatingActivities</th>\n",
       "      <th>NetIncomeLoss</th>\n",
       "      <th>OperatingIncomeLoss</th>\n",
       "      <th>PropertyPlantAndEquipmentNet</th>\n",
       "      <th>RetainedEarningsAccumulatedDeficit</th>\n",
       "      <th>StockholdersEquity</th>\n",
       "      <th>name</th>\n",
       "      <th>cityba</th>\n",
       "      <th>afs</th>\n",
       "      <th>major_group</th>\n",
       "    </tr>\n",
       "  </thead>\n",
       "  <tbody>\n",
       "    <tr>\n",
       "      <th>0</th>\n",
       "      <td>9.907030e+08</td>\n",
       "      <td>3.321320e+08</td>\n",
       "      <td>3.646900e+07</td>\n",
       "      <td>-1.329986e+07</td>\n",
       "      <td>0.330000</td>\n",
       "      <td>8.535000e+06</td>\n",
       "      <td>3.672000e+06</td>\n",
       "      <td>6.223228e+08</td>\n",
       "      <td>9.907030e+08</td>\n",
       "      <td>1.882050e+08</td>\n",
       "      <td>...</td>\n",
       "      <td>6.883000e+06</td>\n",
       "      <td>1.081700e+07</td>\n",
       "      <td>1.604200e+07</td>\n",
       "      <td>2.922960e+08</td>\n",
       "      <td>3.521300e+08</td>\n",
       "      <td>4.975510e+08</td>\n",
       "      <td>apogee enterprises, inc.</td>\n",
       "      <td>minneapolis</td>\n",
       "      <td>2</td>\n",
       "      <td>32</td>\n",
       "    </tr>\n",
       "    <tr>\n",
       "      <th>1</th>\n",
       "      <td>5.081851e+06</td>\n",
       "      <td>3.097867e+06</td>\n",
       "      <td>1.233738e+06</td>\n",
       "      <td>-3.607717e+07</td>\n",
       "      <td>0.000100</td>\n",
       "      <td>3.918470e+05</td>\n",
       "      <td>5.877600e+04</td>\n",
       "      <td>7.778580e+05</td>\n",
       "      <td>5.081851e+06</td>\n",
       "      <td>1.007339e+07</td>\n",
       "      <td>...</td>\n",
       "      <td>-2.297400e+04</td>\n",
       "      <td>-9.091680e+05</td>\n",
       "      <td>3.988800e+04</td>\n",
       "      <td>1.110440e+05</td>\n",
       "      <td>-1.586272e+08</td>\n",
       "      <td>-5.769400e+06</td>\n",
       "      <td>growlife, inc.</td>\n",
       "      <td>kirkland</td>\n",
       "      <td>4</td>\n",
       "      <td>32</td>\n",
       "    </tr>\n",
       "    <tr>\n",
       "      <th>2</th>\n",
       "      <td>9.764530e+08</td>\n",
       "      <td>3.438940e+08</td>\n",
       "      <td>6.182100e+07</td>\n",
       "      <td>1.291976e+07</td>\n",
       "      <td>0.330000</td>\n",
       "      <td>8.465000e+06</td>\n",
       "      <td>1.753000e+06</td>\n",
       "      <td>5.943901e+08</td>\n",
       "      <td>9.764530e+08</td>\n",
       "      <td>1.996490e+08</td>\n",
       "      <td>...</td>\n",
       "      <td>5.490700e+07</td>\n",
       "      <td>-2.116000e+06</td>\n",
       "      <td>1.297300e+07</td>\n",
       "      <td>2.729940e+08</td>\n",
       "      <td>3.363980e+08</td>\n",
       "      <td>4.765610e+08</td>\n",
       "      <td>apogee enterprises, inc.</td>\n",
       "      <td>minneapolis</td>\n",
       "      <td>2</td>\n",
       "      <td>32</td>\n",
       "    </tr>\n",
       "    <tr>\n",
       "      <th>3</th>\n",
       "      <td>5.594300e+10</td>\n",
       "      <td>1.856100e+10</td>\n",
       "      <td>7.759000e+09</td>\n",
       "      <td>1.360000e+08</td>\n",
       "      <td>0.100000</td>\n",
       "      <td>1.200000e+08</td>\n",
       "      <td>6.500000e+07</td>\n",
       "      <td>1.368400e+10</td>\n",
       "      <td>5.594300e+10</td>\n",
       "      <td>5.462000e+09</td>\n",
       "      <td>...</td>\n",
       "      <td>8.584000e+09</td>\n",
       "      <td>3.141000e+09</td>\n",
       "      <td>3.328000e+09</td>\n",
       "      <td>2.477269e+10</td>\n",
       "      <td>3.645200e+10</td>\n",
       "      <td>4.225900e+10</td>\n",
       "      <td>micron technology inc</td>\n",
       "      <td>boise</td>\n",
       "      <td>1</td>\n",
       "      <td>36</td>\n",
       "    </tr>\n",
       "    <tr>\n",
       "      <th>4</th>\n",
       "      <td>3.497606e+08</td>\n",
       "      <td>1.687910e+05</td>\n",
       "      <td>7.572800e+04</td>\n",
       "      <td>-6.435467e+07</td>\n",
       "      <td>-3.213715</td>\n",
       "      <td>3.200882e+07</td>\n",
       "      <td>-6.560332e+06</td>\n",
       "      <td>7.166041e+07</td>\n",
       "      <td>3.497606e+08</td>\n",
       "      <td>5.958541e+07</td>\n",
       "      <td>...</td>\n",
       "      <td>-6.953740e+05</td>\n",
       "      <td>3.850752e+07</td>\n",
       "      <td>-1.067923e+06</td>\n",
       "      <td>1.527225e+07</td>\n",
       "      <td>-7.149248e+07</td>\n",
       "      <td>-7.149162e+07</td>\n",
       "      <td>indie semiconductor, inc.</td>\n",
       "      <td>aliso viejo</td>\n",
       "      <td>4</td>\n",
       "      <td>36</td>\n",
       "    </tr>\n",
       "  </tbody>\n",
       "</table>\n",
       "<p>5 rows × 22 columns</p>\n",
       "</div>"
      ],
      "text/plain": [
       "         Assets  AssetsCurrent  CashAndCashEquivalentsAtCarryingValue  \\\n",
       "0  9.907030e+08   3.321320e+08                           3.646900e+07   \n",
       "1  5.081851e+06   3.097867e+06                           1.233738e+06   \n",
       "2  9.764530e+08   3.438940e+08                           6.182100e+07   \n",
       "3  5.594300e+10   1.856100e+10                           7.759000e+09   \n",
       "4  3.497606e+08   1.687910e+05                           7.572800e+04   \n",
       "\n",
       "   CashCashEquivalentsRestrictedCashAndRestrictedCashEquivalentsPeriodIncreaseDecreaseIncludingExchangeRateEffect  \\\n",
       "0                                      -1.329986e+07                                                                \n",
       "1                                      -3.607717e+07                                                                \n",
       "2                                       1.291976e+07                                                                \n",
       "3                                       1.360000e+08                                                                \n",
       "4                                      -6.435467e+07                                                                \n",
       "\n",
       "   CommonStockParOrStatedValuePerShare  CommonStockValue  \\\n",
       "0                             0.330000      8.535000e+06   \n",
       "1                             0.000100      3.918470e+05   \n",
       "2                             0.330000      8.465000e+06   \n",
       "3                             0.100000      1.200000e+08   \n",
       "4                            -3.213715      3.200882e+07   \n",
       "\n",
       "   IncomeTaxExpenseBenefit   Liabilities  LiabilitiesAndStockholdersEquity  \\\n",
       "0             3.672000e+06  6.223228e+08                      9.907030e+08   \n",
       "1             5.877600e+04  7.778580e+05                      5.081851e+06   \n",
       "2             1.753000e+06  5.943901e+08                      9.764530e+08   \n",
       "3             6.500000e+07  1.368400e+10                      5.594300e+10   \n",
       "4            -6.560332e+06  7.166041e+07                      3.497606e+08   \n",
       "\n",
       "   LiabilitiesCurrent  ...  NetCashProvidedByUsedInOperatingActivities  \\\n",
       "0        1.882050e+08  ...                                6.883000e+06   \n",
       "1        1.007339e+07  ...                               -2.297400e+04   \n",
       "2        1.996490e+08  ...                                5.490700e+07   \n",
       "3        5.462000e+09  ...                                8.584000e+09   \n",
       "4        5.958541e+07  ...                               -6.953740e+05   \n",
       "\n",
       "   NetIncomeLoss  OperatingIncomeLoss  PropertyPlantAndEquipmentNet  \\\n",
       "0   1.081700e+07         1.604200e+07                  2.922960e+08   \n",
       "1  -9.091680e+05         3.988800e+04                  1.110440e+05   \n",
       "2  -2.116000e+06         1.297300e+07                  2.729940e+08   \n",
       "3   3.141000e+09         3.328000e+09                  2.477269e+10   \n",
       "4   3.850752e+07        -1.067923e+06                  1.527225e+07   \n",
       "\n",
       "   RetainedEarningsAccumulatedDeficit  StockholdersEquity  \\\n",
       "0                        3.521300e+08        4.975510e+08   \n",
       "1                       -1.586272e+08       -5.769400e+06   \n",
       "2                        3.363980e+08        4.765610e+08   \n",
       "3                        3.645200e+10        4.225900e+10   \n",
       "4                       -7.149248e+07       -7.149162e+07   \n",
       "\n",
       "                        name       cityba afs major_group  \n",
       "0   apogee enterprises, inc.  minneapolis   2          32  \n",
       "1             growlife, inc.     kirkland   4          32  \n",
       "2   apogee enterprises, inc.  minneapolis   2          32  \n",
       "3      micron technology inc        boise   1          36  \n",
       "4  indie semiconductor, inc.  aliso viejo   4          36  \n",
       "\n",
       "[5 rows x 22 columns]"
      ]
     },
     "execution_count": 5,
     "metadata": {},
     "output_type": "execute_result"
    }
   ],
   "source": [
    "df.head()"
   ]
  },
  {
   "cell_type": "code",
   "execution_count": 6,
   "metadata": {},
   "outputs": [
    {
     "data": {
      "text/html": [
       "<div>\n",
       "<style scoped>\n",
       "    .dataframe tbody tr th:only-of-type {\n",
       "        vertical-align: middle;\n",
       "    }\n",
       "\n",
       "    .dataframe tbody tr th {\n",
       "        vertical-align: top;\n",
       "    }\n",
       "\n",
       "    .dataframe thead th {\n",
       "        text-align: right;\n",
       "    }\n",
       "</style>\n",
       "<table border=\"1\" class=\"dataframe\">\n",
       "  <thead>\n",
       "    <tr style=\"text-align: right;\">\n",
       "      <th></th>\n",
       "      <th>Assets</th>\n",
       "      <th>AssetsCurrent</th>\n",
       "      <th>CashAndCashEquivalentsAtCarryingValue</th>\n",
       "      <th>CashCashEquivalentsRestrictedCashAndRestrictedCashEquivalentsPeriodIncreaseDecreaseIncludingExchangeRateEffect</th>\n",
       "      <th>CommonStockParOrStatedValuePerShare</th>\n",
       "      <th>CommonStockValue</th>\n",
       "      <th>IncomeTaxExpenseBenefit</th>\n",
       "      <th>Liabilities</th>\n",
       "      <th>LiabilitiesAndStockholdersEquity</th>\n",
       "      <th>LiabilitiesCurrent</th>\n",
       "      <th>NetCashProvidedByUsedInFinancingActivities</th>\n",
       "      <th>NetCashProvidedByUsedInInvestingActivities</th>\n",
       "      <th>NetCashProvidedByUsedInOperatingActivities</th>\n",
       "      <th>NetIncomeLoss</th>\n",
       "      <th>OperatingIncomeLoss</th>\n",
       "      <th>PropertyPlantAndEquipmentNet</th>\n",
       "      <th>RetainedEarningsAccumulatedDeficit</th>\n",
       "      <th>StockholdersEquity</th>\n",
       "      <th>afs</th>\n",
       "      <th>major_group</th>\n",
       "    </tr>\n",
       "  </thead>\n",
       "  <tbody>\n",
       "    <tr>\n",
       "      <th>0</th>\n",
       "      <td>9.907030e+08</td>\n",
       "      <td>3.321320e+08</td>\n",
       "      <td>3.646900e+07</td>\n",
       "      <td>-1.329986e+07</td>\n",
       "      <td>0.330000</td>\n",
       "      <td>8.535000e+06</td>\n",
       "      <td>3.672000e+06</td>\n",
       "      <td>6.223228e+08</td>\n",
       "      <td>9.907030e+08</td>\n",
       "      <td>1.882050e+08</td>\n",
       "      <td>-14257000.0</td>\n",
       "      <td>-4.148000e+06</td>\n",
       "      <td>6.883000e+06</td>\n",
       "      <td>1.081700e+07</td>\n",
       "      <td>1.604200e+07</td>\n",
       "      <td>2.922960e+08</td>\n",
       "      <td>3.521300e+08</td>\n",
       "      <td>4.975510e+08</td>\n",
       "      <td>2</td>\n",
       "      <td>32</td>\n",
       "    </tr>\n",
       "    <tr>\n",
       "      <th>1</th>\n",
       "      <td>5.081851e+06</td>\n",
       "      <td>3.097867e+06</td>\n",
       "      <td>1.233738e+06</td>\n",
       "      <td>-3.607717e+07</td>\n",
       "      <td>0.000100</td>\n",
       "      <td>3.918470e+05</td>\n",
       "      <td>5.877600e+04</td>\n",
       "      <td>7.778580e+05</td>\n",
       "      <td>5.081851e+06</td>\n",
       "      <td>1.007339e+07</td>\n",
       "      <td>873568.0</td>\n",
       "      <td>-3.937026e+07</td>\n",
       "      <td>-2.297400e+04</td>\n",
       "      <td>-9.091680e+05</td>\n",
       "      <td>3.988800e+04</td>\n",
       "      <td>1.110440e+05</td>\n",
       "      <td>-1.586272e+08</td>\n",
       "      <td>-5.769400e+06</td>\n",
       "      <td>4</td>\n",
       "      <td>32</td>\n",
       "    </tr>\n",
       "    <tr>\n",
       "      <th>2</th>\n",
       "      <td>9.764530e+08</td>\n",
       "      <td>3.438940e+08</td>\n",
       "      <td>6.182100e+07</td>\n",
       "      <td>1.291976e+07</td>\n",
       "      <td>0.330000</td>\n",
       "      <td>8.465000e+06</td>\n",
       "      <td>1.753000e+06</td>\n",
       "      <td>5.943901e+08</td>\n",
       "      <td>9.764530e+08</td>\n",
       "      <td>1.996490e+08</td>\n",
       "      <td>-32217000.0</td>\n",
       "      <td>-8.763000e+06</td>\n",
       "      <td>5.490700e+07</td>\n",
       "      <td>-2.116000e+06</td>\n",
       "      <td>1.297300e+07</td>\n",
       "      <td>2.729940e+08</td>\n",
       "      <td>3.363980e+08</td>\n",
       "      <td>4.765610e+08</td>\n",
       "      <td>2</td>\n",
       "      <td>32</td>\n",
       "    </tr>\n",
       "    <tr>\n",
       "      <th>3</th>\n",
       "      <td>5.594300e+10</td>\n",
       "      <td>1.856100e+10</td>\n",
       "      <td>7.759000e+09</td>\n",
       "      <td>1.360000e+08</td>\n",
       "      <td>0.100000</td>\n",
       "      <td>1.200000e+08</td>\n",
       "      <td>6.500000e+07</td>\n",
       "      <td>1.368400e+10</td>\n",
       "      <td>5.594300e+10</td>\n",
       "      <td>5.462000e+09</td>\n",
       "      <td>-437000000.0</td>\n",
       "      <td>-8.055000e+09</td>\n",
       "      <td>8.584000e+09</td>\n",
       "      <td>3.141000e+09</td>\n",
       "      <td>3.328000e+09</td>\n",
       "      <td>2.477269e+10</td>\n",
       "      <td>3.645200e+10</td>\n",
       "      <td>4.225900e+10</td>\n",
       "      <td>1</td>\n",
       "      <td>36</td>\n",
       "    </tr>\n",
       "    <tr>\n",
       "      <th>4</th>\n",
       "      <td>3.497606e+08</td>\n",
       "      <td>1.687910e+05</td>\n",
       "      <td>7.572800e+04</td>\n",
       "      <td>-6.435467e+07</td>\n",
       "      <td>-3.213715</td>\n",
       "      <td>3.200882e+07</td>\n",
       "      <td>-6.560332e+06</td>\n",
       "      <td>7.166041e+07</td>\n",
       "      <td>3.497606e+08</td>\n",
       "      <td>5.958541e+07</td>\n",
       "      <td>637407.0</td>\n",
       "      <td>-6.453273e+07</td>\n",
       "      <td>-6.953740e+05</td>\n",
       "      <td>3.850752e+07</td>\n",
       "      <td>-1.067923e+06</td>\n",
       "      <td>1.527225e+07</td>\n",
       "      <td>-7.149248e+07</td>\n",
       "      <td>-7.149162e+07</td>\n",
       "      <td>4</td>\n",
       "      <td>36</td>\n",
       "    </tr>\n",
       "  </tbody>\n",
       "</table>\n",
       "</div>"
      ],
      "text/plain": [
       "         Assets  AssetsCurrent  CashAndCashEquivalentsAtCarryingValue  \\\n",
       "0  9.907030e+08   3.321320e+08                           3.646900e+07   \n",
       "1  5.081851e+06   3.097867e+06                           1.233738e+06   \n",
       "2  9.764530e+08   3.438940e+08                           6.182100e+07   \n",
       "3  5.594300e+10   1.856100e+10                           7.759000e+09   \n",
       "4  3.497606e+08   1.687910e+05                           7.572800e+04   \n",
       "\n",
       "   CashCashEquivalentsRestrictedCashAndRestrictedCashEquivalentsPeriodIncreaseDecreaseIncludingExchangeRateEffect  \\\n",
       "0                                      -1.329986e+07                                                                \n",
       "1                                      -3.607717e+07                                                                \n",
       "2                                       1.291976e+07                                                                \n",
       "3                                       1.360000e+08                                                                \n",
       "4                                      -6.435467e+07                                                                \n",
       "\n",
       "   CommonStockParOrStatedValuePerShare  CommonStockValue  \\\n",
       "0                             0.330000      8.535000e+06   \n",
       "1                             0.000100      3.918470e+05   \n",
       "2                             0.330000      8.465000e+06   \n",
       "3                             0.100000      1.200000e+08   \n",
       "4                            -3.213715      3.200882e+07   \n",
       "\n",
       "   IncomeTaxExpenseBenefit   Liabilities  LiabilitiesAndStockholdersEquity  \\\n",
       "0             3.672000e+06  6.223228e+08                      9.907030e+08   \n",
       "1             5.877600e+04  7.778580e+05                      5.081851e+06   \n",
       "2             1.753000e+06  5.943901e+08                      9.764530e+08   \n",
       "3             6.500000e+07  1.368400e+10                      5.594300e+10   \n",
       "4            -6.560332e+06  7.166041e+07                      3.497606e+08   \n",
       "\n",
       "   LiabilitiesCurrent  NetCashProvidedByUsedInFinancingActivities  \\\n",
       "0        1.882050e+08                                 -14257000.0   \n",
       "1        1.007339e+07                                    873568.0   \n",
       "2        1.996490e+08                                 -32217000.0   \n",
       "3        5.462000e+09                                -437000000.0   \n",
       "4        5.958541e+07                                    637407.0   \n",
       "\n",
       "   NetCashProvidedByUsedInInvestingActivities  \\\n",
       "0                               -4.148000e+06   \n",
       "1                               -3.937026e+07   \n",
       "2                               -8.763000e+06   \n",
       "3                               -8.055000e+09   \n",
       "4                               -6.453273e+07   \n",
       "\n",
       "   NetCashProvidedByUsedInOperatingActivities  NetIncomeLoss  \\\n",
       "0                                6.883000e+06   1.081700e+07   \n",
       "1                               -2.297400e+04  -9.091680e+05   \n",
       "2                                5.490700e+07  -2.116000e+06   \n",
       "3                                8.584000e+09   3.141000e+09   \n",
       "4                               -6.953740e+05   3.850752e+07   \n",
       "\n",
       "   OperatingIncomeLoss  PropertyPlantAndEquipmentNet  \\\n",
       "0         1.604200e+07                  2.922960e+08   \n",
       "1         3.988800e+04                  1.110440e+05   \n",
       "2         1.297300e+07                  2.729940e+08   \n",
       "3         3.328000e+09                  2.477269e+10   \n",
       "4        -1.067923e+06                  1.527225e+07   \n",
       "\n",
       "   RetainedEarningsAccumulatedDeficit  StockholdersEquity  afs  major_group  \n",
       "0                        3.521300e+08        4.975510e+08    2           32  \n",
       "1                       -1.586272e+08       -5.769400e+06    4           32  \n",
       "2                        3.363980e+08        4.765610e+08    2           32  \n",
       "3                        3.645200e+10        4.225900e+10    1           36  \n",
       "4                       -7.149248e+07       -7.149162e+07    4           36  "
      ]
     },
     "execution_count": 6,
     "metadata": {},
     "output_type": "execute_result"
    }
   ],
   "source": [
    "df_num = df.select_dtypes(['number'])\n",
    "df_num.head()"
   ]
  },
  {
   "cell_type": "code",
   "execution_count": 7,
   "metadata": {},
   "outputs": [],
   "source": [
    "X = np.array(df_num)"
   ]
  },
  {
   "cell_type": "code",
   "execution_count": 8,
   "metadata": {},
   "outputs": [
    {
     "data": {
      "text/plain": [
       "array([[ 9.90703000e+08,  3.32132000e+08,  3.64690000e+07, ...,\n",
       "         4.97551000e+08,  2.00000000e+00,  3.20000000e+01],\n",
       "       [ 5.08185100e+06,  3.09786700e+06,  1.23373800e+06, ...,\n",
       "        -5.76940000e+06,  4.00000000e+00,  3.20000000e+01],\n",
       "       [ 9.76453000e+08,  3.43894000e+08,  6.18210000e+07, ...,\n",
       "         4.76561000e+08,  2.00000000e+00,  3.20000000e+01],\n",
       "       ...,\n",
       "       [ 4.60310000e+07,  3.26390000e+07,  2.57000000e+06, ...,\n",
       "         1.26800000e+07,  4.00000000e+00,  5.70000000e+01],\n",
       "       [ 1.49922000e+08,  7.97600000e+07,  7.12121929e+07, ...,\n",
       "         5.69570000e+07,  4.00000000e+00,  2.50000000e+01],\n",
       "       [ 6.65408800e+09,  2.80352300e+09,  4.45852000e+08, ...,\n",
       "         2.92184300e+09,  1.00000000e+00,  3.70000000e+01]])"
      ]
     },
     "execution_count": 8,
     "metadata": {},
     "output_type": "execute_result"
    }
   ],
   "source": [
    "X"
   ]
  },
  {
   "cell_type": "code",
   "execution_count": 9,
   "metadata": {},
   "outputs": [
    {
     "data": {
      "text/plain": [
       "[1,\n",
       " 1,\n",
       " 2,\n",
       " 3,\n",
       " 5,\n",
       " 8,\n",
       " 13,\n",
       " 21,\n",
       " 34,\n",
       " 55,\n",
       " 89,\n",
       " 144,\n",
       " 233,\n",
       " 377,\n",
       " 610,\n",
       " 987,\n",
       " 1597,\n",
       " 2584,\n",
       " 4181,\n",
       " 6765,\n",
       " 10946,\n",
       " 17711,\n",
       " 28657,\n",
       " 46368,\n",
       " 75025,\n",
       " 121393,\n",
       " 196418,\n",
       " 317811,\n",
       " 514229,\n",
       " 832040,\n",
       " 1346269,\n",
       " 2178309,\n",
       " 3524578,\n",
       " 5702887,\n",
       " 9227465,\n",
       " 14930352,\n",
       " 24157817,\n",
       " 39088169,\n",
       " 63245986,\n",
       " 102334155,\n",
       " 165580141,\n",
       " 267914296,\n",
       " 433494437,\n",
       " 701408733,\n",
       " 1134903170,\n",
       " 1836311903,\n",
       " 2971215073,\n",
       " 4807526976,\n",
       " 7778742049,\n",
       " 12586269025,\n",
       " 20365011074,\n",
       " 32951280099,\n",
       " 53316291173,\n",
       " 86267571272,\n",
       " 139583862445,\n",
       " 225851433717,\n",
       " 365435296162,\n",
       " 591286729879,\n",
       " 956722026041,\n",
       " 1548008755920,\n",
       " 2504730781961,\n",
       " 4052739537881,\n",
       " 6557470319842,\n",
       " 10610209857723,\n",
       " 17167680177565,\n",
       " 27777890035288,\n",
       " 44945570212853,\n",
       " 72723460248141,\n",
       " 117669030460994,\n",
       " 190392490709135,\n",
       " 308061521170129,\n",
       " 498454011879264,\n",
       " 806515533049393,\n",
       " 1304969544928657,\n",
       " 2111485077978050,\n",
       " 3416454622906707,\n",
       " 5527939700884757,\n",
       " 8944394323791464,\n",
       " 14472334024676221,\n",
       " 23416728348467685,\n",
       " 37889062373143906,\n",
       " 61305790721611591,\n",
       " 99194853094755497,\n",
       " 160500643816367088,\n",
       " 259695496911122585,\n",
       " 420196140727489673,\n",
       " 679891637638612258,\n",
       " 1100087778366101931,\n",
       " 1779979416004714189,\n",
       " 2880067194370816120,\n",
       " 4660046610375530309,\n",
       " 7540113804746346429,\n",
       " 12200160415121876738,\n",
       " 19740274219868223167,\n",
       " 31940434634990099905,\n",
       " 51680708854858323072,\n",
       " 83621143489848422977,\n",
       " 135301852344706746049,\n",
       " 218922995834555169026,\n",
       " 354224848179261915075]"
      ]
     },
     "execution_count": 9,
     "metadata": {},
     "output_type": "execute_result"
    }
   ],
   "source": [
    "fib = [1, 1]\n",
    "i = 2\n",
    "while i < 100:\n",
    "    fib.append(fib[-2] + fib[-1])\n",
    "    i += 1\n",
    "fib"
   ]
  },
  {
   "cell_type": "code",
   "execution_count": 11,
   "metadata": {},
   "outputs": [],
   "source": [
    "elbow_results = []\n",
    "def do_kmeans(k):\n",
    "    kmeans = KMeans(n_clusters=k).fit(X)\n",
    "    print('finished k=', k)\n",
    "    elbow_results.append(kmeans)"
   ]
  },
  {
   "cell_type": "code",
   "execution_count": 12,
   "metadata": {},
   "outputs": [
    {
     "name": "stdout",
     "output_type": "stream",
     "text": [
      "finished k= 1\n"
     ]
    }
   ],
   "source": [
    "do_kmeans(1)"
   ]
  },
  {
   "cell_type": "code",
   "execution_count": 13,
   "metadata": {},
   "outputs": [
    {
     "data": {
      "text/plain": [
       "[KMeans(n_clusters=1)]"
      ]
     },
     "execution_count": 13,
     "metadata": {},
     "output_type": "execute_result"
    }
   ],
   "source": [
    "elbow_results"
   ]
  },
  {
   "cell_type": "code",
   "execution_count": 15,
   "metadata": {},
   "outputs": [
    {
     "data": {
      "text/plain": [
       "[3.038006424818439e+26]"
      ]
     },
     "execution_count": 15,
     "metadata": {},
     "output_type": "execute_result"
    }
   ],
   "source": [
    "[e.inertia_ for e in elbow_results]"
   ]
  },
  {
   "cell_type": "code",
   "execution_count": 16,
   "metadata": {},
   "outputs": [
    {
     "name": "stdout",
     "output_type": "stream",
     "text": [
      "finished k= 3\n"
     ]
    }
   ],
   "source": [
    "do_kmeans(3)"
   ]
  },
  {
   "cell_type": "code",
   "execution_count": 17,
   "metadata": {},
   "outputs": [
    {
     "name": "stdout",
     "output_type": "stream",
     "text": [
      "finished k= 5\n"
     ]
    }
   ],
   "source": [
    "do_kmeans(5)"
   ]
  },
  {
   "cell_type": "code",
   "execution_count": 19,
   "metadata": {},
   "outputs": [
    {
     "data": {
      "text/plain": [
       "[8, 13, 21, 34, 55, 89]"
      ]
     },
     "execution_count": 19,
     "metadata": {},
     "output_type": "execute_result"
    }
   ],
   "source": [
    "fib[5:11]"
   ]
  },
  {
   "cell_type": "code",
   "execution_count": 20,
   "metadata": {},
   "outputs": [
    {
     "data": {
      "text/plain": [
       "[KMeans(n_clusters=1), KMeans(n_clusters=3), KMeans(n_clusters=5)]"
      ]
     },
     "execution_count": 20,
     "metadata": {},
     "output_type": "execute_result"
    }
   ],
   "source": [
    "elbow_results"
   ]
  },
  {
   "cell_type": "code",
   "execution_count": 22,
   "metadata": {},
   "outputs": [
    {
     "name": "stdout",
     "output_type": "stream",
     "text": [
      "finished k= 8\n",
      "finished k= 13\n",
      "finished k= 21\n",
      "finished k= 34\n",
      "finished k= 55\n",
      "finished k= 89\n"
     ]
    }
   ],
   "source": [
    "for k in fib[5:11]:\n",
    "    do_kmeans(k)"
   ]
  },
  {
   "cell_type": "code",
   "execution_count": 27,
   "metadata": {},
   "outputs": [
    {
     "data": {
      "text/plain": [
       "array([[ 1.40867257e+10,  3.79727678e+09,  7.50102982e+08,\n",
       "         7.12319315e+07,  2.11291227e+01,  1.01168637e+08,\n",
       "         3.53336877e+07,  1.32425125e+10,  1.41644521e+10,\n",
       "         3.80332118e+09,  1.09557979e+08, -2.90355989e+08,\n",
       "         2.55851246e+08,  1.45483832e+08,  1.62989768e+08,\n",
       "         1.53315473e+09,  1.67102516e+09,  2.22897373e+09,\n",
       "         2.84191829e+00,  4.88318532e+01]])"
      ]
     },
     "execution_count": 27,
     "metadata": {},
     "output_type": "execute_result"
    }
   ],
   "source": [
    "elbow_results[0].cluster_centers_"
   ]
  },
  {
   "cell_type": "code",
   "execution_count": 47,
   "metadata": {},
   "outputs": [],
   "source": [
    "def plot(elbow_results):\n",
    "    x = [len(km.cluster_centers_) for km in elbow_results]\n",
    "    print(min(x), max(x), x)\n",
    "    y = [km.inertia_ for km in elbow_results]\n",
    "    plt.scatter(x, y)\n",
    "    plt.title('Error in Clusters vs. K (Elbow Method)')"
   ]
  },
  {
   "cell_type": "code",
   "execution_count": 48,
   "metadata": {},
   "outputs": [
    {
     "name": "stdout",
     "output_type": "stream",
     "text": [
      "1 144 [1, 3, 5, 8, 13, 21, 34, 55, 89, 1, 2, 3, 5, 8, 13, 21, 34, 55, 89, 144]\n"
     ]
    },
    {
     "data": {
      "image/png": "[encoded data removed]",
      "text/plain": [
       "<Figure size 432x288 with 1 Axes>"
      ]
     },
     "metadata": {
      "needs_background": "light"
     },
     "output_type": "display_data"
    }
   ],
   "source": [
    "plot(elbow_results)"
   ]
  },
  {
   "cell_type": "code",
   "execution_count": 36,
   "metadata": {},
   "outputs": [
    {
     "name": "stdout",
     "output_type": "stream",
     "text": [
      "finished k= 1\n",
      "finished k= 2\n",
      "finished k= 3\n",
      "finished k= 5\n",
      "finished k= 8\n",
      "finished k= 13\n",
      "finished k= 21\n",
      "finished k= 34\n",
      "finished k= 55\n",
      "finished k= 89\n",
      "finished k= 144\n"
     ]
    }
   ],
   "source": [
    "for k in fib[1:12]:\n",
    "    do_kmeans(k)"
   ]
  },
  {
   "cell_type": "code",
   "execution_count": 37,
   "metadata": {},
   "outputs": [
    {
     "data": {
      "image/png": "[encoded data removed]",
      "text/plain": [
       "<Figure size 432x288 with 1 Axes>"
      ]
     },
     "metadata": {
      "needs_background": "light"
     },
     "output_type": "display_data"
    }
   ],
   "source": [
    "plot(elbow_results)"
   ]
  },
  {
   "cell_type": "code",
   "execution_count": 38,
   "metadata": {},
   "outputs": [
    {
     "data": {
      "text/plain": [
       "20"
      ]
     },
     "execution_count": 38,
     "metadata": {},
     "output_type": "execute_result"
    }
   ],
   "source": [
    "len(elbow_results)"
   ]
  },
  {
   "cell_type": "code",
   "execution_count": 39,
   "metadata": {},
   "outputs": [
    {
     "data": {
      "text/plain": [
       "144"
      ]
     },
     "execution_count": 39,
     "metadata": {},
     "output_type": "execute_result"
    }
   ],
   "source": [
    "fib[11]"
   ]
  },
  {
   "cell_type": "code",
   "execution_count": 42,
   "metadata": {},
   "outputs": [
    {
     "data": {
      "text/plain": [
       "5"
      ]
     },
     "execution_count": 42,
     "metadata": {},
     "output_type": "execute_result"
    }
   ],
   "source": [
    "km_5 = elbow_results[2]\n",
    "len(km_5.cluster_centers_)"
   ]
  },
  {
   "cell_type": "code",
   "execution_count": 43,
   "metadata": {},
   "outputs": [
    {
     "data": {
      "text/plain": [
       "3.282900197600889e+25"
      ]
     },
     "execution_count": 43,
     "metadata": {},
     "output_type": "execute_result"
    }
   ],
   "source": [
    "km_5.inertia_"
   ]
  },
  {
   "cell_type": "code",
   "execution_count": 49,
   "metadata": {},
   "outputs": [
    {
     "data": {
      "text/plain": [
       "8"
      ]
     },
     "execution_count": 49,
     "metadata": {},
     "output_type": "execute_result"
    }
   ],
   "source": [
    "km_8 = elbow_results[3]\n",
    "len(km_8.cluster_centers_)"
   ]
  },
  {
   "cell_type": "code",
   "execution_count": 50,
   "metadata": {},
   "outputs": [
    {
     "data": {
      "text/plain": [
       "1.199712341693864e+25"
      ]
     },
     "execution_count": 50,
     "metadata": {},
     "output_type": "execute_result"
    }
   ],
   "source": [
    "km_8.inertia_"
   ]
  },
  {
   "cell_type": "code",
   "execution_count": 52,
   "metadata": {},
   "outputs": [],
   "source": [
    "kmeans = km_8\n",
    "clusters_inds = [[] for i in range(8)]\n",
    "for i in range(len(kmeans.labels_)):\n",
    "  cluster_number = kmeans.labels_[i]\n",
    "  clusters_inds[cluster_number - 1].append(i)"
   ]
  },
  {
   "cell_type": "code",
   "execution_count": 57,
   "metadata": {},
   "outputs": [
    {
     "data": {
      "text/plain": [
       "[[2907, 3858, 3864, 3884, 4671],\n",
       " [5042],\n",
       " [2371, 2374, 3728, 3856, 3857, 4822],\n",
       " [2908, 3872],\n",
       " [4832],\n",
       " [2196,\n",
       "  2379,\n",
       "  2513,\n",
       "  3187,\n",
       "  3716,\n",
       "  3865,\n",
       "  3879,\n",
       "  3909,\n",
       "  3911,\n",
       "  4337,\n",
       "  4819,\n",
       "  4825,\n",
       "  4831,\n",
       "  4836,\n",
       "  4839,\n",
       "  4852]]"
      ]
     },
     "execution_count": 57,
     "metadata": {},
     "output_type": "execute_result"
    }
   ],
   "source": [
    "small_cluster_inds = [c for c in clusters_inds if len(c) < 50]\n",
    "small_cluster_inds"
   ]
  },
  {
   "cell_type": "code",
   "execution_count": 58,
   "metadata": {},
   "outputs": [
    {
     "data": {
      "text/plain": [
       "[['federal home loan mortgage corp',\n",
       "  'wells fargo & company/mn',\n",
       "  'bank of america corp /de/',\n",
       "  'citigroup inc',\n",
       "  'hsbc holdings plc'],\n",
       " ['gap inc'],\n",
       " ['morgan stanley',\n",
       "  'goldman sachs group inc',\n",
       "  'berkshire hathaway inc',\n",
       "  'ubs group ag',\n",
       "  'ubs ag',\n",
       "  'prudential financial inc'],\n",
       " ['federal national mortgage association fannie mae', 'jpmorgan chase & co'],\n",
       " ['brighthouse life insurance co'],\n",
       " ['royal dutch shell plc',\n",
       "  'schwab charles corp',\n",
       "  'at&t inc.',\n",
       "  'bank of new york mellon corp',\n",
       "  'american international group, inc.',\n",
       "  'capital one financial corp',\n",
       "  'us bancorp de',\n",
       "  'truist financial corp',\n",
       "  'pnc financial services group, inc.',\n",
       "  'hologic inc',\n",
       "  'lincoln national corp',\n",
       "  'metlife inc',\n",
       "  'lincoln national life insurance co /in/',\n",
       "  'metropolitan life insurance co',\n",
       "  'prudential plc',\n",
       "  'jackson financial inc.']]"
      ]
     },
     "execution_count": 58,
     "metadata": {},
     "output_type": "execute_result"
    }
   ],
   "source": [
    "outlier_companies = [[df['name'][i] for i in c] for c in small_cluster_inds]\n",
    "outlier_companies"
   ]
  },
  {
   "cell_type": "code",
   "execution_count": 59,
   "metadata": {},
   "outputs": [],
   "source": [
    "f = open('outlier_companies_8.txt', 'w')\n",
    "f.write(str(outlier_companies))\n",
    "f.close()"
   ]
  },
  {
   "cell_type": "code",
   "execution_count": 60,
   "metadata": {},
   "outputs": [],
   "source": [
    "f = open('outlier_companies_inds_8.txt', 'w')\n",
    "f.write(str(small_cluster_inds))\n",
    "f.close()"
   ]
  },
  {
   "cell_type": "code",
   "execution_count": 62,
   "metadata": {},
   "outputs": [
    {
     "data": {
      "text/html": [
       "<div>\n",
       "<style scoped>\n",
       "    .dataframe tbody tr th:only-of-type {\n",
       "        vertical-align: middle;\n",
       "    }\n",
       "\n",
       "    .dataframe tbody tr th {\n",
       "        vertical-align: top;\n",
       "    }\n",
       "\n",
       "    .dataframe thead th {\n",
       "        text-align: right;\n",
       "    }\n",
       "</style>\n",
       "<table border=\"1\" class=\"dataframe\">\n",
       "  <thead>\n",
       "    <tr style=\"text-align: right;\">\n",
       "      <th></th>\n",
       "      <th>Assets</th>\n",
       "      <th>AssetsCurrent</th>\n",
       "      <th>CashAndCashEquivalentsAtCarryingValue</th>\n",
       "      <th>CashCashEquivalentsRestrictedCashAndRestrictedCashEquivalentsPeriodIncreaseDecreaseIncludingExchangeRateEffect</th>\n",
       "      <th>CommonStockParOrStatedValuePerShare</th>\n",
       "      <th>CommonStockValue</th>\n",
       "      <th>IncomeTaxExpenseBenefit</th>\n",
       "      <th>Liabilities</th>\n",
       "      <th>LiabilitiesAndStockholdersEquity</th>\n",
       "      <th>LiabilitiesCurrent</th>\n",
       "      <th>...</th>\n",
       "      <th>NetCashProvidedByUsedInOperatingActivities</th>\n",
       "      <th>NetIncomeLoss</th>\n",
       "      <th>OperatingIncomeLoss</th>\n",
       "      <th>PropertyPlantAndEquipmentNet</th>\n",
       "      <th>RetainedEarningsAccumulatedDeficit</th>\n",
       "      <th>StockholdersEquity</th>\n",
       "      <th>name</th>\n",
       "      <th>cityba</th>\n",
       "      <th>afs</th>\n",
       "      <th>major_group</th>\n",
       "    </tr>\n",
       "  </thead>\n",
       "  <tbody>\n",
       "    <tr>\n",
       "      <th>0</th>\n",
       "      <td>9.907030e+08</td>\n",
       "      <td>3.321320e+08</td>\n",
       "      <td>3.646900e+07</td>\n",
       "      <td>-1.329986e+07</td>\n",
       "      <td>0.330000</td>\n",
       "      <td>8.535000e+06</td>\n",
       "      <td>3.672000e+06</td>\n",
       "      <td>6.223228e+08</td>\n",
       "      <td>9.907030e+08</td>\n",
       "      <td>1.882050e+08</td>\n",
       "      <td>...</td>\n",
       "      <td>6.883000e+06</td>\n",
       "      <td>1.081700e+07</td>\n",
       "      <td>1.604200e+07</td>\n",
       "      <td>2.922960e+08</td>\n",
       "      <td>3.521300e+08</td>\n",
       "      <td>4.975510e+08</td>\n",
       "      <td>apogee enterprises, inc.</td>\n",
       "      <td>minneapolis</td>\n",
       "      <td>2</td>\n",
       "      <td>32</td>\n",
       "    </tr>\n",
       "    <tr>\n",
       "      <th>1</th>\n",
       "      <td>5.081851e+06</td>\n",
       "      <td>3.097867e+06</td>\n",
       "      <td>1.233738e+06</td>\n",
       "      <td>-3.607717e+07</td>\n",
       "      <td>0.000100</td>\n",
       "      <td>3.918470e+05</td>\n",
       "      <td>5.877600e+04</td>\n",
       "      <td>7.778580e+05</td>\n",
       "      <td>5.081851e+06</td>\n",
       "      <td>1.007339e+07</td>\n",
       "      <td>...</td>\n",
       "      <td>-2.297400e+04</td>\n",
       "      <td>-9.091680e+05</td>\n",
       "      <td>3.988800e+04</td>\n",
       "      <td>1.110440e+05</td>\n",
       "      <td>-1.586272e+08</td>\n",
       "      <td>-5.769400e+06</td>\n",
       "      <td>growlife, inc.</td>\n",
       "      <td>kirkland</td>\n",
       "      <td>4</td>\n",
       "      <td>32</td>\n",
       "    </tr>\n",
       "    <tr>\n",
       "      <th>2</th>\n",
       "      <td>9.764530e+08</td>\n",
       "      <td>3.438940e+08</td>\n",
       "      <td>6.182100e+07</td>\n",
       "      <td>1.291976e+07</td>\n",
       "      <td>0.330000</td>\n",
       "      <td>8.465000e+06</td>\n",
       "      <td>1.753000e+06</td>\n",
       "      <td>5.943901e+08</td>\n",
       "      <td>9.764530e+08</td>\n",
       "      <td>1.996490e+08</td>\n",
       "      <td>...</td>\n",
       "      <td>5.490700e+07</td>\n",
       "      <td>-2.116000e+06</td>\n",
       "      <td>1.297300e+07</td>\n",
       "      <td>2.729940e+08</td>\n",
       "      <td>3.363980e+08</td>\n",
       "      <td>4.765610e+08</td>\n",
       "      <td>apogee enterprises, inc.</td>\n",
       "      <td>minneapolis</td>\n",
       "      <td>2</td>\n",
       "      <td>32</td>\n",
       "    </tr>\n",
       "    <tr>\n",
       "      <th>3</th>\n",
       "      <td>5.594300e+10</td>\n",
       "      <td>1.856100e+10</td>\n",
       "      <td>7.759000e+09</td>\n",
       "      <td>1.360000e+08</td>\n",
       "      <td>0.100000</td>\n",
       "      <td>1.200000e+08</td>\n",
       "      <td>6.500000e+07</td>\n",
       "      <td>1.368400e+10</td>\n",
       "      <td>5.594300e+10</td>\n",
       "      <td>5.462000e+09</td>\n",
       "      <td>...</td>\n",
       "      <td>8.584000e+09</td>\n",
       "      <td>3.141000e+09</td>\n",
       "      <td>3.328000e+09</td>\n",
       "      <td>2.477269e+10</td>\n",
       "      <td>3.645200e+10</td>\n",
       "      <td>4.225900e+10</td>\n",
       "      <td>micron technology inc</td>\n",
       "      <td>boise</td>\n",
       "      <td>1</td>\n",
       "      <td>36</td>\n",
       "    </tr>\n",
       "    <tr>\n",
       "      <th>4</th>\n",
       "      <td>3.497606e+08</td>\n",
       "      <td>1.687910e+05</td>\n",
       "      <td>7.572800e+04</td>\n",
       "      <td>-6.435467e+07</td>\n",
       "      <td>-3.213715</td>\n",
       "      <td>3.200882e+07</td>\n",
       "      <td>-6.560332e+06</td>\n",
       "      <td>7.166041e+07</td>\n",
       "      <td>3.497606e+08</td>\n",
       "      <td>5.958541e+07</td>\n",
       "      <td>...</td>\n",
       "      <td>-6.953740e+05</td>\n",
       "      <td>3.850752e+07</td>\n",
       "      <td>-1.067923e+06</td>\n",
       "      <td>1.527225e+07</td>\n",
       "      <td>-7.149248e+07</td>\n",
       "      <td>-7.149162e+07</td>\n",
       "      <td>indie semiconductor, inc.</td>\n",
       "      <td>aliso viejo</td>\n",
       "      <td>4</td>\n",
       "      <td>36</td>\n",
       "    </tr>\n",
       "  </tbody>\n",
       "</table>\n",
       "<p>5 rows × 22 columns</p>\n",
       "</div>"
      ],
      "text/plain": [
       "         Assets  AssetsCurrent  CashAndCashEquivalentsAtCarryingValue  \\\n",
       "0  9.907030e+08   3.321320e+08                           3.646900e+07   \n",
       "1  5.081851e+06   3.097867e+06                           1.233738e+06   \n",
       "2  9.764530e+08   3.438940e+08                           6.182100e+07   \n",
       "3  5.594300e+10   1.856100e+10                           7.759000e+09   \n",
       "4  3.497606e+08   1.687910e+05                           7.572800e+04   \n",
       "\n",
       "   CashCashEquivalentsRestrictedCashAndRestrictedCashEquivalentsPeriodIncreaseDecreaseIncludingExchangeRateEffect  \\\n",
       "0                                      -1.329986e+07                                                                \n",
       "1                                      -3.607717e+07                                                                \n",
       "2                                       1.291976e+07                                                                \n",
       "3                                       1.360000e+08                                                                \n",
       "4                                      -6.435467e+07                                                                \n",
       "\n",
       "   CommonStockParOrStatedValuePerShare  CommonStockValue  \\\n",
       "0                             0.330000      8.535000e+06   \n",
       "1                             0.000100      3.918470e+05   \n",
       "2                             0.330000      8.465000e+06   \n",
       "3                             0.100000      1.200000e+08   \n",
       "4                            -3.213715      3.200882e+07   \n",
       "\n",
       "   IncomeTaxExpenseBenefit   Liabilities  LiabilitiesAndStockholdersEquity  \\\n",
       "0             3.672000e+06  6.223228e+08                      9.907030e+08   \n",
       "1             5.877600e+04  7.778580e+05                      5.081851e+06   \n",
       "2             1.753000e+06  5.943901e+08                      9.764530e+08   \n",
       "3             6.500000e+07  1.368400e+10                      5.594300e+10   \n",
       "4            -6.560332e+06  7.166041e+07                      3.497606e+08   \n",
       "\n",
       "   LiabilitiesCurrent  ...  NetCashProvidedByUsedInOperatingActivities  \\\n",
       "0        1.882050e+08  ...                                6.883000e+06   \n",
       "1        1.007339e+07  ...                               -2.297400e+04   \n",
       "2        1.996490e+08  ...                                5.490700e+07   \n",
       "3        5.462000e+09  ...                                8.584000e+09   \n",
       "4        5.958541e+07  ...                               -6.953740e+05   \n",
       "\n",
       "   NetIncomeLoss  OperatingIncomeLoss  PropertyPlantAndEquipmentNet  \\\n",
       "0   1.081700e+07         1.604200e+07                  2.922960e+08   \n",
       "1  -9.091680e+05         3.988800e+04                  1.110440e+05   \n",
       "2  -2.116000e+06         1.297300e+07                  2.729940e+08   \n",
       "3   3.141000e+09         3.328000e+09                  2.477269e+10   \n",
       "4   3.850752e+07        -1.067923e+06                  1.527225e+07   \n",
       "\n",
       "   RetainedEarningsAccumulatedDeficit  StockholdersEquity  \\\n",
       "0                        3.521300e+08        4.975510e+08   \n",
       "1                       -1.586272e+08       -5.769400e+06   \n",
       "2                        3.363980e+08        4.765610e+08   \n",
       "3                        3.645200e+10        4.225900e+10   \n",
       "4                       -7.149248e+07       -7.149162e+07   \n",
       "\n",
       "                        name       cityba afs major_group  \n",
       "0   apogee enterprises, inc.  minneapolis   2          32  \n",
       "1             growlife, inc.     kirkland   4          32  \n",
       "2   apogee enterprises, inc.  minneapolis   2          32  \n",
       "3      micron technology inc        boise   1          36  \n",
       "4  indie semiconductor, inc.  aliso viejo   4          36  \n",
       "\n",
       "[5 rows x 22 columns]"
      ]
     },
     "execution_count": 62,
     "metadata": {},
     "output_type": "execute_result"
    }
   ],
   "source": [
    "df.head()"
   ]
  },
  {
   "cell_type": "code",
   "execution_count": 63,
   "metadata": {},
   "outputs": [],
   "source": [
    "df['cluster label'] = km_8.labels_"
   ]
  },
  {
   "cell_type": "code",
   "execution_count": 67,
   "metadata": {},
   "outputs": [],
   "source": [
    "df.to_csv('final_dataset_clustered.csv')"
   ]
  },
  {
   "cell_type": "code",
   "execution_count": 82,
   "metadata": {},
   "outputs": [],
   "source": [
    "def plot_clusters(df, km):\n",
    "    x = df['AssetsCurrent']\n",
    "    y = df['major_group']\n",
    "    colors = ['yellow', 'orange', 'red', 'purple', 'blue', 'green', 'brown', 'grey']\n",
    "    color = [colors[i] for i in km.labels_]\n",
    "    plt.scatter(x, y, color=color)\n",
    "    plt.xlabel('Assets')\n",
    "    plt.ylabel('SIC')\n",
    "    plt.title('Clusters')"
   ]
  },
  {
   "cell_type": "code",
   "execution_count": 83,
   "metadata": {},
   "outputs": [
    {
     "data": {
      "image/png": "[encoded data removed]",
      "text/plain": [
       "<Figure size 432x288 with 1 Axes>"
      ]
     },
     "metadata": {
      "needs_background": "light"
     },
     "output_type": "display_data"
    }
   ],
   "source": [
    "plot_clusters(df, km_8)"
   ]
  },
  {
   "cell_type": "code",
   "execution_count": 84,
   "metadata": {},
   "outputs": [],
   "source": [
    "from sklearn.decomposition import PCA"
   ]
  },
  {
   "cell_type": "code",
   "execution_count": 169,
   "metadata": {},
   "outputs": [],
   "source": [
    "def plot_clusters_pca(df, km):\n",
    "    pca = PCA(2)\n",
    "    X_transformed = pca.fit_transform(X)\n",
    "    x = X_transformed[:, 0]\n",
    "    y = X_transformed[:, 1]\n",
    "    colors = ['blue', 'yellow', 'orange', 'red', 'purple', 'green', 'brown', 'grey']\n",
    "    color = [colors[i] for i in km.labels_]\n",
    "    plt.scatter(x, y, color=color)\n",
    "    plt.title('Clusters')"
   ]
  },
  {
   "cell_type": "code",
   "execution_count": 170,
   "metadata": {},
   "outputs": [
    {
     "data": {
      "image/png": "[encoded data removed]",
      "text/plain": [
       "<Figure size 432x288 with 1 Axes>"
      ]
     },
     "metadata": {
      "needs_background": "light"
     },
     "output_type": "display_data"
    }
   ],
   "source": [
    "plot_clusters_pca(df, km_8)"
   ]
  },
  {
   "cell_type": "code",
   "execution_count": 91,
   "metadata": {},
   "outputs": [
    {
     "data": {
      "text/plain": [
       "(array([ 243.,   67., 1103.,  920.,  335.,  135.,  899.,  402.,  747.,\n",
       "         216.]),\n",
       " array([12. , 19.5, 27. , 34.5, 42. , 49.5, 57. , 64.5, 72. , 79.5, 87. ]),\n",
       " <BarContainer object of 10 artists>)"
      ]
     },
     "execution_count": 91,
     "metadata": {},
     "output_type": "execute_result"
    },
    {
     "data": {
      "image/png": "[encoded data removed]",
      "text/plain": [
       "<Figure size 432x288 with 1 Axes>"
      ]
     },
     "metadata": {
      "needs_background": "light"
     },
     "output_type": "display_data"
    }
   ],
   "source": [
    "plt.hist(df['major_group'])"
   ]
  },
  {
   "cell_type": "code",
   "execution_count": 112,
   "metadata": {},
   "outputs": [],
   "source": [
    "major_group_enum = list(set(df['major_group']))"
   ]
  },
  {
   "cell_type": "code",
   "execution_count": 113,
   "metadata": {},
   "outputs": [],
   "source": [
    "sic_codes_df = pd.read_csv('sic-codes.csv')"
   ]
  },
  {
   "cell_type": "code",
   "execution_count": 114,
   "metadata": {},
   "outputs": [],
   "source": [
    "sic_major_groups = np.array(sic_codes_df['Major Group'])\n",
    "sic_desc = np.array(sic_codes_df['Description'])"
   ]
  },
  {
   "cell_type": "code",
   "execution_count": 119,
   "metadata": {},
   "outputs": [],
   "source": [
    "def major_group_to_desc(major_group):\n",
    "    inds = np.where(sic_major_groups == major_group)[0]\n",
    "    ind = inds[0] # for now\n",
    "    return sic_desc[ind]"
   ]
  },
  {
   "cell_type": "code",
   "execution_count": null,
   "metadata": {},
   "outputs": [],
   "source": [
    "counts = [0] * len(major_group_enum)\n",
    "for el in df['major_group']:\n",
    "    counts[major_group_enum.index(el)] += 1\n",
    "plt.bar(major_group_enum, counts)\n",
    "ticks = [major_group_to_desc(a) for a in major_group_enum]\n",
    "plt.xticks(np.arange(len(ticks)), ticks)\n",
    "plt.title('Histogram of SIC codes')"
   ]
  },
  {
   "cell_type": "code",
   "execution_count": 124,
   "metadata": {},
   "outputs": [],
   "source": [
    "def dennis_df():\n",
    "    # Load data\n",
    "    df = pd.read_csv(\"final_dataset.csv\")\n",
    "\n",
    "    # Load 2 digit sic and sic\n",
    "    df_sic = pd.read_csv(\"major-groups.csv\", usecols=['Major Group', 'Description'])\n",
    "\n",
    "    # Rename columns\n",
    "    df_sic.columns = ['major_group', 'description']\n",
    "\n",
    "    # Extract 2-digit SIC code\n",
    "    df = df.merge(df_sic, on='major_group')\n",
    "\n",
    "    return df"
   ]
  },
  {
   "cell_type": "code",
   "execution_count": null,
   "metadata": {},
   "outputs": [],
   "source": [
    "df_denis = dennis_df()\n",
    "# plt.hist(df['description'])\n",
    "df_denis.head()"
   ]
  },
  {
   "cell_type": "code",
   "execution_count": null,
   "metadata": {},
   "outputs": [],
   "source": [
    "plt.hist(df_denis['description'])"
   ]
  },
  {
   "cell_type": "code",
   "execution_count": null,
   "metadata": {},
   "outputs": [],
   "source": [
    "plt.hist(df_denis['description'])\n",
    "ax = plt.gca()\n",
    "plt.setp(ax.get_xticklabels(), rotation=90, horizontalalignment='right', fontsize='x-small')"
   ]
  },
  {
   "cell_type": "code",
   "execution_count": 105,
   "metadata": {},
   "outputs": [
    {
     "data": {
      "text/plain": [
       "array([], dtype=object)"
      ]
     },
     "execution_count": 105,
     "metadata": {},
     "output_type": "execute_result"
    }
   ],
   "source": [
    "major_group_to_desc(11)"
   ]
  },
  {
   "cell_type": "code",
   "execution_count": 106,
   "metadata": {},
   "outputs": [
    {
     "data": {
      "text/plain": [
       "array([ 1,  1,  1, ..., 97, 97, 99])"
      ]
     },
     "execution_count": 106,
     "metadata": {},
     "output_type": "execute_result"
    }
   ],
   "source": [
    "sic_major_groups"
   ]
  },
  {
   "cell_type": "code",
   "execution_count": 107,
   "metadata": {},
   "outputs": [
    {
     "data": {
      "text/plain": [
       "array(['Wheat', 'Rice', 'Corn', ..., 'National Security',\n",
       "       'International Affairs', 'Nonclassifiable Establishments'],\n",
       "      dtype=object)"
      ]
     },
     "execution_count": 107,
     "metadata": {},
     "output_type": "execute_result"
    }
   ],
   "source": [
    "sic_desc"
   ]
  },
  {
   "cell_type": "code",
   "execution_count": 110,
   "metadata": {},
   "outputs": [
    {
     "data": {
      "text/plain": [
       "(array([71, 72, 73, 74, 75]),)"
      ]
     },
     "execution_count": 110,
     "metadata": {},
     "output_type": "execute_result"
    }
   ],
   "source": [
    "np.where(sic_major_groups == 13)"
   ]
  },
  {
   "cell_type": "code",
   "execution_count": 111,
   "metadata": {},
   "outputs": [
    {
     "data": {
      "text/plain": [
       "'Crude Petroleum and Natural Gas'"
      ]
     },
     "execution_count": 111,
     "metadata": {},
     "output_type": "execute_result"
    }
   ],
   "source": [
    "sic_desc[71]"
   ]
  },
  {
   "cell_type": "code",
   "execution_count": null,
   "metadata": {},
   "outputs": [],
   "source": []
  },
  {
   "cell_type": "code",
   "execution_count": 154,
   "metadata": {},
   "outputs": [],
   "source": [
    "df_sic = pd.read_csv(\"major-groups.csv\")\n",
    "major_group_enum = list(set(df_sic['Major Group']))"
   ]
  },
  {
   "cell_type": "code",
   "execution_count": 155,
   "metadata": {},
   "outputs": [],
   "source": [
    "sic_major_groups = np.array(df_sic['Major Group'])\n",
    "sic_desc = np.array(df_sic['Description'])"
   ]
  },
  {
   "cell_type": "code",
   "execution_count": 156,
   "metadata": {},
   "outputs": [],
   "source": [
    "def major_group_to_desc(major_group):\n",
    "    inds = np.where(sic_major_groups == major_group)[0]\n",
    "    ind = inds[0] # for now\n",
    "    return sic_desc[ind]"
   ]
  },
  {
   "cell_type": "code",
   "execution_count": null,
   "metadata": {},
   "outputs": [],
   "source": [
    "counts = [0] * len(major_group_enum)\n",
    "for el in df['major_group']:\n",
    "    counts[major_group_enum.index(el)] += 1\n",
    "plt.bar(major_group_enum, counts)\n",
    "ticks = [major_group_to_desc(a)[:20] for a in major_group_enum]\n",
    "plt.xticks(np.arange(len(ticks)), ticks)\n",
    "plt.title('Histogram of SIC codes')\n",
    "ax = plt.gca()\n",
    "plt.setp(ax.get_xticklabels(), rotation=90, horizontalalignment='right', fontsize='x-small')"
   ]
  },
  {
   "cell_type": "code",
   "execution_count": 162,
   "metadata": {},
   "outputs": [
    {
     "data": {
      "text/plain": [
       "[None,\n",
       " None,\n",
       " None,\n",
       " None,\n",
       " None,\n",
       " None,\n",
       " None,\n",
       " None,\n",
       " None,\n",
       " None,\n",
       " None,\n",
       " None,\n",
       " None,\n",
       " None,\n",
       " None,\n",
       " None,\n",
       " None,\n",
       " None,\n",
       " None,\n",
       " None,\n",
       " None,\n",
       " None,\n",
       " None,\n",
       " None,\n",
       " None,\n",
       " None,\n",
       " None,\n",
       " None,\n",
       " None,\n",
       " None,\n",
       " None,\n",
       " None,\n",
       " None,\n",
       " None,\n",
       " None,\n",
       " None,\n",
       " None,\n",
       " None,\n",
       " None,\n",
       " None]"
      ]
     },
     "execution_count": 162,
     "metadata": {},
     "output_type": "execute_result"
    },
    {
     "data": {
      "image/png": "[encoded data removed]",
      "text/plain": [
       "<Figure size 432x288 with 1 Axes>"
      ]
     },
     "metadata": {
      "needs_background": "light"
     },
     "output_type": "display_data"
    }
   ],
   "source": [
    "######\n",
    "# Load data\n",
    "my_df = pd.read_csv(\"final_dataset_clustered.csv\")\n",
    "\n",
    "# Load 2 digit sic and sic\n",
    "df_sic = pd.read_csv(\"major-groups.csv\")\n",
    "\n",
    "# Extract 2-digit SIC code\n",
    "my_df = my_df.merge(df_sic, on='Major Group')\n",
    "\n",
    "# my_df.sort_values('cluster label', inplace=True)\n",
    "\n",
    "my_df = my_df.groupby(['Major Group', 'cluster label'])['Major Group'].count().unstack('cluster label').fillna(0)\n",
    "# my_df.plot(kind='bar', stacked=True)\n",
    "\n",
    "my_df.sort_values(0, inplace=True, ascending=False)\n",
    "my_df = my_df.head(20)\n",
    "\n",
    "labels = [major_group_to_desc(a)[:20] for a in my_df.index]\n",
    "fig, ax = plt.subplots()\n",
    "for i in range(8):\n",
    "    ax.bar(labels, my_df[i], label=i)\n",
    "plt.setp(ax.get_xticklabels(), rotation=90, horizontalalignment='right', fontsize='x-small')"
   ]
  },
  {
   "cell_type": "code",
   "execution_count": 145,
   "metadata": {},
   "outputs": [
    {
     "data": {
      "text/html": [
       "<div>\n",
       "<style scoped>\n",
       "    .dataframe tbody tr th:only-of-type {\n",
       "        vertical-align: middle;\n",
       "    }\n",
       "\n",
       "    .dataframe tbody tr th {\n",
       "        vertical-align: top;\n",
       "    }\n",
       "\n",
       "    .dataframe thead th {\n",
       "        text-align: right;\n",
       "    }\n",
       "</style>\n",
       "<table border=\"1\" class=\"dataframe\">\n",
       "  <thead>\n",
       "    <tr style=\"text-align: right;\">\n",
       "      <th>cluster label</th>\n",
       "      <th>0</th>\n",
       "      <th>1</th>\n",
       "      <th>2</th>\n",
       "      <th>3</th>\n",
       "      <th>4</th>\n",
       "      <th>5</th>\n",
       "      <th>6</th>\n",
       "      <th>7</th>\n",
       "    </tr>\n",
       "    <tr>\n",
       "      <th>Major Group</th>\n",
       "      <th></th>\n",
       "      <th></th>\n",
       "      <th></th>\n",
       "      <th></th>\n",
       "      <th></th>\n",
       "      <th></th>\n",
       "      <th></th>\n",
       "      <th></th>\n",
       "    </tr>\n",
       "  </thead>\n",
       "  <tbody>\n",
       "    <tr>\n",
       "      <th>12</th>\n",
       "      <td>5.0</td>\n",
       "      <td>0.0</td>\n",
       "      <td>0.0</td>\n",
       "      <td>0.0</td>\n",
       "      <td>0.0</td>\n",
       "      <td>0.0</td>\n",
       "      <td>0.0</td>\n",
       "      <td>0.0</td>\n",
       "    </tr>\n",
       "    <tr>\n",
       "      <th>13</th>\n",
       "      <td>200.0</td>\n",
       "      <td>0.0</td>\n",
       "      <td>0.0</td>\n",
       "      <td>0.0</td>\n",
       "      <td>0.0</td>\n",
       "      <td>0.0</td>\n",
       "      <td>2.0</td>\n",
       "      <td>1.0</td>\n",
       "    </tr>\n",
       "    <tr>\n",
       "      <th>15</th>\n",
       "      <td>24.0</td>\n",
       "      <td>0.0</td>\n",
       "      <td>0.0</td>\n",
       "      <td>0.0</td>\n",
       "      <td>0.0</td>\n",
       "      <td>0.0</td>\n",
       "      <td>0.0</td>\n",
       "      <td>0.0</td>\n",
       "    </tr>\n",
       "    <tr>\n",
       "      <th>16</th>\n",
       "      <td>7.0</td>\n",
       "      <td>0.0</td>\n",
       "      <td>0.0</td>\n",
       "      <td>0.0</td>\n",
       "      <td>0.0</td>\n",
       "      <td>0.0</td>\n",
       "      <td>0.0</td>\n",
       "      <td>0.0</td>\n",
       "    </tr>\n",
       "    <tr>\n",
       "      <th>17</th>\n",
       "      <td>4.0</td>\n",
       "      <td>0.0</td>\n",
       "      <td>0.0</td>\n",
       "      <td>0.0</td>\n",
       "      <td>0.0</td>\n",
       "      <td>0.0</td>\n",
       "      <td>0.0</td>\n",
       "      <td>0.0</td>\n",
       "    </tr>\n",
       "  </tbody>\n",
       "</table>\n",
       "</div>"
      ],
      "text/plain": [
       "cluster label      0    1    2    3    4    5    6    7\n",
       "Major Group                                            \n",
       "12               5.0  0.0  0.0  0.0  0.0  0.0  0.0  0.0\n",
       "13             200.0  0.0  0.0  0.0  0.0  0.0  2.0  1.0\n",
       "15              24.0  0.0  0.0  0.0  0.0  0.0  0.0  0.0\n",
       "16               7.0  0.0  0.0  0.0  0.0  0.0  0.0  0.0\n",
       "17               4.0  0.0  0.0  0.0  0.0  0.0  0.0  0.0"
      ]
     },
     "execution_count": 145,
     "metadata": {},
     "output_type": "execute_result"
    }
   ],
   "source": [
    "my_df.head()"
   ]
  },
  {
   "cell_type": "code",
   "execution_count": null,
   "metadata": {},
   "outputs": [],
   "source": []
  },
  {
   "cell_type": "code",
   "execution_count": null,
   "metadata": {},
   "outputs": [],
   "source": []
  },
  {
   "cell_type": "code",
   "execution_count": null,
   "metadata": {},
   "outputs": [],
   "source": []
  }
 ],
 "metadata": {
  "interpreter": {
   "hash": "4f1fba46a7a34314e30c4a9786c3e231ff85b81b8bc8f7de1e10796cc1568f92"
  },
  "kernelspec": {
   "display_name": "Python 3.8.10 64-bit ('venv': venv)",
   "language": "python",
   "name": "python3"
  },
  "language_info": {
   "codemirror_mode": {
    "name": "ipython",
    "version": 3
   },
   "file_extension": ".py",
   "mimetype": "text/x-python",
   "name": "python",
   "nbconvert_exporter": "python",
   "pygments_lexer": "ipython3",
   "version": "3.8.10"
  },
  "orig_nbformat": 4
 },
 "nbformat": 4,
 "nbformat_minor": 2
}
