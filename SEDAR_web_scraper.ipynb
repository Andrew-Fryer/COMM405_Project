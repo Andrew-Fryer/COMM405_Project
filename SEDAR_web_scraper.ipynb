{
 "cells": [
  {
   "cell_type": "code",
   "execution_count": 1,
   "id": "756ddba5",
   "metadata": {},
   "outputs": [],
   "source": [
    "# Imports\n",
    "from selenium import webdriver\n",
    "from selenium.webdriver import ActionChains\n",
    "import pandas as pd\n",
    "import string\n",
    "import time\n",
    "\n",
    "# Initialize the webdriver and specify browser\n",
    "driver = webdriver.Chrome()"
   ]
  },
  {
   "cell_type": "code",
   "execution_count": 2,
   "id": "8a0c2931",
   "metadata": {},
   "outputs": [],
   "source": [
    "# SEDAR separates company pages by NC and lowercase alphabet\n",
    "# urls is a list that contains these characters\n",
    "urls = [\"nc\"] + list(string.ascii_lowercase)\n",
    "\n",
    "# Empty list to store company name and company urls\n",
    "company = []\n",
    "coUrls = []\n",
    "\n",
    "# Visit each page and grab all the urls to company profiles\n",
    "for i in urls:\n",
    "    \n",
    "    # Visit the page of companies in alphabetical order\n",
    "    url = \"https://www.sedar.com/issuers/company_issuers_{}_en.htm\".format(i)\n",
    "    driver.get(url)\n",
    "    \n",
    "    # Find all the urls on the page\n",
    "    coUrl = driver.find_elements_by_xpath(\"//a[@href]\")\n",
    "    \n",
    "    # For every url\n",
    "    for c in coUrl:\n",
    "        \n",
    "        # Check to see if DisplayProfile is in the url,\n",
    "        # If it is, append company name and the url to\n",
    "        # respective list\n",
    "        if (\"DisplayProfile\" in c.get_attribute(\"href\")):\n",
    "            company.append(c.text)\n",
    "            coUrls.append(c.get_attribute(\"href\"))\n",
    "    \n",
    "    # Wait 3 seconds\n",
    "    time.sleep(3)"
   ]
  },
  {
   "cell_type": "code",
   "execution_count": 3,
   "id": "0bc11b74",
   "metadata": {},
   "outputs": [],
   "source": [
    "# Convert the information collected to a data frame\n",
    "df = pd.DataFrame(list(zip(company, coUrls)), \n",
    "                  columns=[\"Company\", \"SEDAR_url\"])\n",
    "\n",
    "# Save to csv\n",
    "df.to_csv(\"sedar_companies.csv\", index=False)"
   ]
  },
  {
   "cell_type": "code",
   "execution_count": null,
   "id": "48bcb2f9",
   "metadata": {},
   "outputs": [],
   "source": [
    "# Load the data\n",
    "df.read_csv(\"sedar_companies.csv\")\n",
    "\n",
    "# Check\n",
    "df.head()"
   ]
  },
  {
   "cell_type": "code",
   "execution_count": 4,
   "id": "69f16707",
   "metadata": {},
   "outputs": [
    {
     "data": {
      "text/plain": [
       "'Scrape SEDAR Company Profiles'"
      ]
     },
     "execution_count": 4,
     "metadata": {},
     "output_type": "execute_result"
    }
   ],
   "source": [
    "\"\"\"Scrape SEDAR Company Profiles\"\"\"\n",
    "\n",
    "# Empty lists to store info\n",
    "mailAddress = []\n",
    "contactName = []\n",
    "bizEmail = []\n",
    "telNum = []\n",
    "faxNum = []\n",
    "dateForm = []\n",
    "jurisdiction = []\n",
    "industryClass = []\n",
    "cusipNum = []\n",
    "finYearEnd = []\n",
    "hqAddress = []\n",
    "principalRegulator = []\n",
    "shortFormProspectusIssuer = []\n",
    "reportJurisdiction = []\n",
    "stockExchange = []\n",
    "stockSym = []\n",
    "auditor = []\n",
    "generalPartner = []\n",
    "transferAgent = []\n",
    "assets = []\n",
    "\n",
    "# Visit each company profile page\n",
    "for i in df['SEDAR_url']:\n",
    "    \n",
    "    # Go to page\n",
    "    driver.get(i)\n",
    "    \n",
    "    ma = driver.find_elements_by_xpath('')\n",
    "    \n",
    "    # If it exists, add the text to mailAddress\n",
    "    if ma:\n",
    "        mailAddress.append(ma[0].text)\n",
    "    else:\n",
    "        mailAddress.append(\"\")\n",
    "    \n",
    "    # Wait 3 seconds\n",
    "    time.sleep(3)"
   ]
  }
 ],
 "metadata": {
  "kernelspec": {
   "display_name": "Python 3 (ipykernel)",
   "language": "python",
   "name": "python3"
  },
  "language_info": {
   "codemirror_mode": {
    "name": "ipython",
    "version": 3
   },
   "file_extension": ".py",
   "mimetype": "text/x-python",
   "name": "python",
   "nbconvert_exporter": "python",
   "pygments_lexer": "ipython3",
   "version": "3.8.12"
  }
 },
 "nbformat": 4,
 "nbformat_minor": 5
}
